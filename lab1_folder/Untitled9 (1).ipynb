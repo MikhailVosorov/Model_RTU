{
  "metadata": {
    "language_info": {
      "codemirror_mode": {
        "name": "python",
        "version": 3
      },
      "file_extension": ".py",
      "mimetype": "text/x-python",
      "name": "python",
      "nbconvert_exporter": "python",
      "pygments_lexer": "ipython3",
      "version": "3.8"
    },
    "kernelspec": {
      "name": "python",
      "display_name": "Python (Pyodide)",
      "language": "python"
    }
  },
  "nbformat_minor": 4,
  "nbformat": 4,
  "cells": [
    {
      "cell_type": "code",
      "source": "# Задание 1 на языке Python\nfrom random import random as r\nimport random\n\nrandom.seed(random.randint(-10000, 10000))\n\ndef calc_pi(x0, y0, r0, expNmb):\n    '''\n    Функция вычисляет значение числа PI с некоторой погрешностью, зависящей от числа экспериментов\n    '''\n    positive_res = 0\n    r02 = r0**2\n    x_max, x_min = x0 - r0, x0 + r0\n    y_max, y_min = y0 - r0, y0 + r0\n    for k in range(expNmb):\n        px, py = r(), r()\n        xp = (x_max - x_min) * px + x_min\n        yp = (y_max - y_min) * py + y_min\n        if (xp-x0) ** 2 + (yp-y0) ** 2 < r02:\n            positive_res += 1\n    return 4 * positive_res / expNmb\n",
      "metadata": {
        "trusted": true
      },
      "execution_count": 2,
      "outputs": []
    },
    {
      "cell_type": "code",
      "source": "'''\nЗадание 2\nС помощью функции из раздела 1 требуется найти значение числа π \nдля числа экспериментов ExpNmb = 10**4 (x0 = 1, y0 = 2, r0 = 5).\n'''\nprint(calc_pi(1, 2, 5, 10**4))\n\n'''\nДалее требуется провести расчёты значения числа π для числа \nэкспериментов ExpNmb = 104, 105, 106, 107, 108 и занести полученные \nрезультаты в вектор seria_1, а также провести ещё четыре серии расчётов для \nтакого же числа экспериментов и занести результаты в вектора seria_2, \nseria_3, seria_4, seria_5 \n'''\ndef get_serial(seria_number):\n    exp_nmb = 10**4\n    x0, y0, r0 = 1, 2, 5\n    print(f\"Seria number {seria_number} start...\")\n    res_list = []\n    while exp_nmb <= 10**6:\n        pi = calc_pi(x0, y0, r0, exp_nmb)\n        res_list.append(pi)\n        exp_nmb = exp_nmb * 10\n    print(f\"Seria number {seria_number} end.\")\n    return res_list\n\nseria_1 = get_serial(\"1\")\nseria_2 = get_serial(\"2\")\nseria_3 = get_serial(\"3\")\nseria_4 = get_serial(\"4\")\nseria_5 = get_serial(\"5\")\nprint(f\"seria_1 = {seria_1}\")\nprint(f\"seria_1 = {seria_2}\")\nprint(f\"seria_1 = {seria_3}\")\nprint(f\"seria_1 = {seria_4}\")\nprint(f\"seria_1 = {seria_5}\")",
      "metadata": {
        "trusted": true
      },
      "execution_count": 3,
      "outputs": [
        {
          "name": "stdout",
          "text": "3.162\nSeria number 1 start...\nSeria number 1 end.\nSeria number 2 start...\nSeria number 2 end.\nSeria number 3 start...\nSeria number 3 end.\nSeria number 4 start...\nSeria number 4 end.\nSeria number 5 start...\nSeria number 5 end.\nseria_1 = [3.112, 3.1374, 3.140584]\nseria_1 = [3.1588, 3.14332, 3.144952]\nseria_1 = [3.1308, 3.14688, 3.145756]\nseria_1 = [3.1388, 3.13624, 3.139972]\nseria_1 = [3.1652, 3.14324, 3.14138]\n",
          "output_type": "stream"
        }
      ]
    },
    {
      "cell_type": "code",
      "source": "'''\nЗадание 3\nДля получения точного значения числа π воспользуемся библиотекой \nmath и переменной pi. Далее получим ошибку по каждой серии, после чего \nнайдём среднюю ошибку по всем сериям\n'''\nseria_total = [seria_1, seria_2, seria_3, seria_4, seria_5]\nfrom math import pi\n\nseria_fault_single = []\nfor i in range(2):\n    fault = []\n    for j in range(2):\n        fault.append(round(abs(seria_total[i][j] - pi)/pi, 10))\n    print(f\"Fault {i+1}: {fault}\")\n    seria_fault_single.append(fault)\n\nseria_fault_total = []\nfor i in range(2):\n    total_fault = 0\n    for j in range(2):\n        total_fault += seria_fault_single[j] [i]\n    total_fault = round(total_fault / 5, 10)\n    seria_fault_total.append(total_fault)\nprint(\"Total fault: \", seria_fault_total)\n\n'''\nКак мы выдим с увеличением экспериментов отклонение экспериментального знанчения он истинного уменьшается\n'''",
      "metadata": {
        "trusted": true
      },
      "execution_count": 5,
      "outputs": [
        {
          "name": "stdout",
          "text": "Fault 1: [0.0094196342, 0.0013345631]\nFault 2: [0.0054772685, 0.0005498314]\nTotal fault:  [0.0029793805, 0.0003768789]\n",
          "output_type": "stream"
        }
      ]
    }
  ]
}